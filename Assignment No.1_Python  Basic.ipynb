{
 "cells": [
  {
   "cell_type": "raw",
   "id": "cd3b6c7d",
   "metadata": {},
   "source": [
    "Q1.In the below elements which of them are values or an expression? eg:- values can be\n",
    "   integer or string and expressions will be mathematical operators.\n",
    "\n",
    "Ans= #Values = 'hello' , -87.8 , 6\n",
    "     #Expression = *, - , +, /"
   ]
  },
  {
   "cell_type": "raw",
   "id": "5d6ddae9",
   "metadata": {},
   "source": [
    "Q2.What is the difference between string and variable?\n",
    "\n",
    "Ans= String = Anything written inside \"\" or '' is string i.e \"shdhhd\"\n",
    "     Variable = A variable is something that stores data - it can store a string, int, float, class, etc."
   ]
  },
  {
   "cell_type": "raw",
   "id": "32dafbd0",
   "metadata": {},
   "source": [
    "Q3 Describe three different data types.\n",
    "\n",
    "Ans= Float = any number with decimal point is comes under Float data type. i.e 12.3\n",
    "     Complex = the number which is having combination of real and imaginary part is comes under complex data type. i.e 12+2j\n",
    "     Integer = any integer value(positive or negative) except complex and decimal number are comes under Int data type. i.e          1,2,3,4,5\n"
   ]
  },
  {
   "cell_type": "raw",
   "id": "209576fe",
   "metadata": {},
   "source": [
    "Q4.What is an expression made up of? What do all expressions do?\n",
    "\n",
    "Ans= An expression is combination of symbols (like a variable, constants, and operators) representing a value. An expression          must have at least one operand (variable or constant) and have one or more operators.\n",
    "     expressions are used to evaluate the values or represent the result on the screen."
   ]
  },
  {
   "cell_type": "raw",
   "id": "befc9a04",
   "metadata": {},
   "source": [
    "Q5.This assignment statements, like spam = 10. What is the difference between an\n",
    "   expression and a statement?\n",
    "\n",
    "Ans= an expression returns some result.\n",
    "     statement just like a command that a python interpreter executes like print, it may or may not return anything.\n"
   ]
  },
  {
   "cell_type": "raw",
   "id": "ce38d834",
   "metadata": {},
   "source": [
    "Q6.After running the following code, what does the variable bacon contain?\n",
    "\n",
    "Ans = 23"
   ]
  },
  {
   "cell_type": "raw",
   "id": "7c93d10a",
   "metadata": {},
   "source": [
    "Q7. What should the values of the following two terms be?\n",
    "\n",
    "Ans = for both the terms = 'spamspamspam'"
   ]
  },
  {
   "cell_type": "raw",
   "id": "e106495a",
   "metadata": {},
   "source": [
    "Q8. Why is eggs a valid variable name while 100 is invalid?\n",
    "\n",
    "Ans= A variable cannot start with a number or numeric value like 1,2,3\n"
   ]
  },
  {
   "cell_type": "raw",
   "id": "4674fc6b",
   "metadata": {},
   "source": [
    "Q9. What three functions can be used to get the integer, floating-point number, or string\n",
    "    version of a value?\n",
    "\n",
    "Ans = str(), int(), float()"
   ]
  },
  {
   "cell_type": "raw",
   "id": "6267c575",
   "metadata": {},
   "source": [
    "Q10. Why does this expression cause an error? How can you fix it?\n",
    "      'I have eaten' , 99 , 'burritos'\n",
    "\n",
    "Ans= 'I have eaten' + '99' + 'burritos' "
   ]
  }
 ],
 "metadata": {
  "kernelspec": {
   "display_name": "Python 3 (ipykernel)",
   "language": "python",
   "name": "python3"
  },
  "language_info": {
   "codemirror_mode": {
    "name": "ipython",
    "version": 3
   },
   "file_extension": ".py",
   "mimetype": "text/x-python",
   "name": "python",
   "nbconvert_exporter": "python",
   "pygments_lexer": "ipython3",
   "version": "3.9.7"
  }
 },
 "nbformat": 4,
 "nbformat_minor": 5
}
