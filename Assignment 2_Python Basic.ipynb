{
 "cells": [
  {
   "cell_type": "raw",
   "id": "3c797967",
   "metadata": {},
   "source": [
    "Q1.What are the two values of the Boolean data type? How do you write them?\n",
    "Ans=\n",
    "    Boolean data types are 1.True 2.False\n",
    "    We can write them as True and False, T and F should be capital otherwise       will get an Error, \n",
    "    python represents True=1 and False = 0"
   ]
  },
  {
   "cell_type": "raw",
   "id": "d8dd5d4f",
   "metadata": {},
   "source": [
    "Q2.What are the three different types of Boolean operators?\n",
    "Ans=\n",
    "    AND, OR , NOT"
   ]
  },
  {
   "cell_type": "raw",
   "id": "75d9c725",
   "metadata": {},
   "source": [
    "Q3. Make a list of each Boolean operator's truth tables (i.e. every possible combination of Boolean\n",
    "values for the operator and what it evaluate ).\n",
    "Ans=\n",
    "    1. True and True = True\n",
    "    2. True and False = False\n",
    "    3. False and False = False\n",
    "    4. False and True= False\n",
    "    5. False or False = False\n",
    "    6. False or True = True\n",
    "    7. True or False =True\n",
    "    8. True or True = True\n",
    "    9.  not True = False\n",
    "    10. not False = True"
   ]
  },
  {
   "cell_type": "raw",
   "id": "39be3d4e",
   "metadata": {},
   "source": [
    "Q4. What are the values of the following expressions?\n",
    "\n",
    "1. (5 > 4) and (3 == 5) Ans= False\n",
    "\n",
    "2. not (5 > 4) Ans= False\n",
    "\n",
    "3. (5 > 4) or (3 == 5) Ans = True\n",
    "\n",
    "4. not ((5 > 4) or (3 == 5)) Ans = False\n",
    "\n",
    "5. (True and True) and (True == False) Ans = False\n",
    "\n",
    "6. (not False) or (not True) Ans = True"
   ]
  },
  {
   "cell_type": "raw",
   "id": "fdef2473",
   "metadata": {},
   "source": [
    "Q5. What are the six comparison operators?\n",
    "\n",
    "1. == Equal to\n",
    "2. >  Greater than\n",
    "3. <  Less than\n",
    "4. >= Greater than equal to\n",
    "5. <= Less than equal to \n",
    "6. != Not equal to"
   ]
  },
  {
   "cell_type": "raw",
   "id": "752ef95d",
   "metadata": {},
   "source": [
    "Q6. How do you tell the difference between the equal to and assignment operators?Describe a\n",
    "condition and when you would use one.\n",
    "Ans = \n",
    "\n",
    "Assignment (=) operator – these are used to assign values to the     variable and equal to (==) operator – it is a     comparison operator. It is used to  check if two values/variables are equal or not. \n",
    "\n",
    "For Example:     \n",
    " x = 1        # we use assignment operator (=) to define value 1 to the variable x  \n",
    "\n",
    " if (x==1):   # we use equal to (==) to check the condition is True or not\n",
    "\n",
    "     print(\"x equals 1\")\n",
    "     \n",
    " else:\n",
    "\n",
    "     print(\"x is not equal to 1\")\n",
    "        \n"
   ]
  },
  {
   "cell_type": "raw",
   "id": "9ccf70c9",
   "metadata": {},
   "source": [
    "Q7. Identify the three blocks in this code:\n",
    "spam = 0\n",
    "if spam == 10:\n",
    "print('eggs') # block 1\n",
    "if spam > 5:\n",
    "print('bacon')\n",
    "else:\n",
    "print('ham') # block 2\n",
    "print('spam') # Block 3\n",
    "\n",
    "print('spam')"
   ]
  },
  {
   "cell_type": "raw",
   "id": "5c3ce687",
   "metadata": {},
   "source": [
    "Q 8. Write code that prints Hello if 1 is stored in spam, prints Howdy if 2 is stored in spam, and prints\n",
    "Greetings! if anything else is stored in spam.\n",
    "\n",
    "Ans= \n",
    "spam = int(input(\"Enter a number\"))\n",
    "if spam == 1:\n",
    "          print(\"Hello\")\n",
    "elif spam == 2:\n",
    "    print(\"Howdy\")\n",
    "    \n",
    "else :\n",
    "    print(\" Greetings!\")"
   ]
  },
  {
   "cell_type": "raw",
   "id": "7518f735",
   "metadata": {},
   "source": [
    "Q9.If your programme is stuck in an endless loop, what keys you’ll press?\n",
    "\n",
    "Ans=\n",
    "      press Ctrl-C to force it to exit."
   ]
  },
  {
   "cell_type": "raw",
   "id": "8e8e3967",
   "metadata": {},
   "source": [
    "Q10. How can you tell the difference between break and continue?\n",
    "\n",
    "Ans =  Break statements are used if we want to immediately stop an iteration or would like to end the loop at a sudden point.\n",
    "       continue statement is used to transfer the control back to the start for the following iteration after the continue statement skips the code that follows it.    "
   ]
  },
  {
   "cell_type": "raw",
   "id": "d947433d",
   "metadata": {},
   "source": [
    "Q11. In a for loop, what is the difference between range(10), range(0, 10), and range(0, 10, 1)?\n",
    "\n",
    "Ans = There is no Difference, They all do the same thing."
   ]
  },
  {
   "cell_type": "raw",
   "id": "ddad2cb0",
   "metadata": {},
   "source": [
    "Q12. Write a short program that prints the numbers 1 to 10 using a for loop. Then write an equivalent\n",
    "program that prints the numbers 1 to 10 using a while loop.\n",
    "\n",
    "# for loop\n",
    "for i in range (11):\n",
    "    print(i)\n",
    "    \n",
    "# while loop\n",
    "\n",
    "i= 1\n",
    "while i<=10:\n",
    "    print (i)\n",
    "    i= i+1\n"
   ]
  },
  {
   "cell_type": "raw",
   "id": "2280fc42",
   "metadata": {},
   "source": [
    "Q13. If you had a function named bacon() inside a module named spam, how would you call it after\n",
    "importing spam?\n",
    "\n",
    "Ans = This function can be called with spam.bacon() "
   ]
  }
 ],
 "metadata": {
  "kernelspec": {
   "display_name": "Python 3 (ipykernel)",
   "language": "python",
   "name": "python3"
  },
  "language_info": {
   "codemirror_mode": {
    "name": "ipython",
    "version": 3
   },
   "file_extension": ".py",
   "mimetype": "text/x-python",
   "name": "python",
   "nbconvert_exporter": "python",
   "pygments_lexer": "ipython3",
   "version": "3.9.7"
  }
 },
 "nbformat": 4,
 "nbformat_minor": 5
}
