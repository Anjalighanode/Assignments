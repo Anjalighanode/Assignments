{
 "cells": [
  {
   "cell_type": "code",
   "execution_count": null,
   "id": "9d8490fa",
   "metadata": {},
   "outputs": [],
   "source": [
    "#1. What does an empty dictionary's code look like?\n",
    "\"\"\"Ans - d = {}    \"\"\""
   ]
  },
  {
   "cell_type": "code",
   "execution_count": null,
   "id": "1e5e5c77",
   "metadata": {},
   "outputs": [],
   "source": [
    "#2. What is the value of a dictionary value with the key 'foo' and the value 42?\n",
    "\n",
    "\n",
    "\"\"\"Ans - value = 42 \n",
    "\n",
    "\"\"\"\n"
   ]
  },
  {
   "cell_type": "code",
   "execution_count": null,
   "id": "8489b75f",
   "metadata": {},
   "outputs": [],
   "source": [
    "#3. What is the most significant distinction between a dictionary and a list?\n",
    "\n",
    "\"\"\"Ans - 1.the items in dictionary are unorderd it is in key and value pair and the\n",
    "         indices of list are integers starting from zero.\n",
    "         2.unlike list, order of key and value items does not matter to compare two dictionaries  \"\"\""
   ]
  },
  {
   "cell_type": "code",
   "execution_count": null,
   "id": "1c4078f9",
   "metadata": {},
   "outputs": [],
   "source": [
    "#4. What happens if you try to access spam['foo'] if spam is {'bar': 100}?\n",
    "\n",
    "\"\"\"Ans - it will show key error:'foo' as 'foo' is not vailable in spam dictionary\"\"\""
   ]
  },
  {
   "cell_type": "code",
   "execution_count": null,
   "id": "30af61d4",
   "metadata": {},
   "outputs": [],
   "source": [
    "#5. If a dictionary is stored in spam, what is the difference between the expressions 'cat' in spam and\n",
    "#   'cat' in spam.keys()?\n",
    "\n",
    "\"\"\"Ans - Both are same as both expression check 'cat' aa key available in spam \"\"\""
   ]
  },
  {
   "cell_type": "code",
   "execution_count": null,
   "id": "ad61bc93",
   "metadata": {},
   "outputs": [],
   "source": [
    "#6. If a dictionary is stored in spam, what is the difference between the expressions 'cat' in spam and\n",
    "#    'cat' in spam.values()?\n",
    "\n",
    "\n",
    "\"\"\"Ans - 1.'cat' in spam expression will search the 'cat' as a key available in dictionary or not\n",
    "         2. 'cat' in spam.values() will search the 'cat' as a value available in dict or not \"\"\"\n"
   ]
  },
  {
   "cell_type": "code",
   "execution_count": 25,
   "id": "21679454",
   "metadata": {},
   "outputs": [
    {
     "data": {
      "text/plain": [
       "'black'"
      ]
     },
     "execution_count": 25,
     "metadata": {},
     "output_type": "execute_result"
    }
   ],
   "source": [
    "#7. What is a shortcut for the following code?\n",
    "\n",
    "\"\"\"if 'color' not in spam:\n",
    "          spam['color'] = 'black'       \"\"\"\n",
    "\n",
    "\n",
    "\n",
    "\"\"\"Ans \"\"\"\n",
    "spam.setdefault('color' , 'black')\n"
   ]
  },
  {
   "cell_type": "code",
   "execution_count": null,
   "id": "12bdbf3b",
   "metadata": {},
   "outputs": [],
   "source": [
    "#8. How do you 'pretty print' dictionary values using which module and function?\n",
    "\n",
    "\n",
    "\"\"\"Ans -  we can pretty print dictionary values by using module pprint() and function pformat()\"\"\"\n",
    "\n"
   ]
  }
 ],
 "metadata": {
  "kernelspec": {
   "display_name": "Python 3 (ipykernel)",
   "language": "python",
   "name": "python3"
  },
  "language_info": {
   "codemirror_mode": {
    "name": "ipython",
    "version": 3
   },
   "file_extension": ".py",
   "mimetype": "text/x-python",
   "name": "python",
   "nbconvert_exporter": "python",
   "pygments_lexer": "ipython3",
   "version": "3.9.7"
  }
 },
 "nbformat": 4,
 "nbformat_minor": 5
}
