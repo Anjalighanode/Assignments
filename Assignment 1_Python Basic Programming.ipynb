{
 "cells": [
  {
   "cell_type": "code",
   "execution_count": 9,
   "id": "7c45cb90",
   "metadata": {},
   "outputs": [
    {
     "name": "stdout",
     "output_type": "stream",
     "text": [
      "Hello Python\n"
     ]
    }
   ],
   "source": [
    "#Q1. Write a Python program to print \"Hello Python\"?\n",
    "#Ans=\n",
    "\n",
    "print(\"Hello Python\")\n",
    "       \n"
   ]
  },
  {
   "cell_type": "code",
   "execution_count": 40,
   "id": "5b89b8e1",
   "metadata": {},
   "outputs": [
    {
     "name": "stdout",
     "output_type": "stream",
     "text": [
      "enter a value10\n",
      "enter a value5\n",
      "15 2.0\n"
     ]
    }
   ],
   "source": [
    "#Q2.Write a Python program to do arithmetical operations addition and division.?\n",
    "\n",
    "#Ans\n",
    "\n",
    "num1=int(input(\"enter a value\"))\n",
    "num2=int(input(\"enter a value\"))\n",
    "a= num1+num2\n",
    "b= num1/num2\n",
    "print(a,b)\n"
   ]
  },
  {
   "cell_type": "code",
   "execution_count": 41,
   "id": "984e1f12",
   "metadata": {},
   "outputs": [
    {
     "name": "stdout",
     "output_type": "stream",
     "text": [
      "enter a number7\n",
      "enter a number9\n",
      "31\n"
     ]
    }
   ],
   "source": [
    "#Q3. Write a Python program to find the area of a triangle?\n",
    "\n",
    "#Ans\n",
    "\n",
    "base= int(input(\"enter a number\"))\n",
    "height = int(input(\"enter a number\"))\n",
    "area = int((base * height)/2)\n",
    "print(area)\n"
   ]
  },
  {
   "cell_type": "code",
   "execution_count": 42,
   "id": "c951ec27",
   "metadata": {},
   "outputs": [
    {
     "name": "stdout",
     "output_type": "stream",
     "text": [
      "value of x: 5\n",
      "value of y: 10\n"
     ]
    }
   ],
   "source": [
    "#Q4. Write a Python program to swap two variables?\n",
    "\n",
    "#Ans \n",
    "\n",
    "x = 10\n",
    "y = 5\n",
    "\n",
    "temp = x\n",
    "x = y\n",
    "y = temp\n",
    "\n",
    "print(\"value of x:\", x)\n",
    "print(\"value of y:\", y)"
   ]
  },
  {
   "cell_type": "code",
   "execution_count": 43,
   "id": "d1cd02c9",
   "metadata": {},
   "outputs": [
    {
     "name": "stdout",
     "output_type": "stream",
     "text": [
      "22\n"
     ]
    }
   ],
   "source": [
    "#Q5 Write a Python program to generate a random number?\n",
    "\n",
    "#Ans \n",
    "\n",
    "import random\n",
    "a= random.randint(1,100)\n",
    "print(a)"
   ]
  }
 ],
 "metadata": {
  "kernelspec": {
   "display_name": "Python 3 (ipykernel)",
   "language": "python",
   "name": "python3"
  },
  "language_info": {
   "codemirror_mode": {
    "name": "ipython",
    "version": 3
   },
   "file_extension": ".py",
   "mimetype": "text/x-python",
   "name": "python",
   "nbconvert_exporter": "python",
   "pygments_lexer": "ipython3",
   "version": "3.9.7"
  }
 },
 "nbformat": 4,
 "nbformat_minor": 5
}
