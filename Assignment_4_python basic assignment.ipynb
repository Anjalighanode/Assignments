{
 "cells": [
  {
   "cell_type": "code",
   "execution_count": 1,
   "id": "c94bace2",
   "metadata": {},
   "outputs": [
    {
     "data": {
      "text/plain": [
       "'Ans -  List'"
      ]
     },
     "execution_count": 1,
     "metadata": {},
     "output_type": "execute_result"
    }
   ],
   "source": [
    "#1. What exactly is []?\n",
    "\n",
    "\"\"\"Ans -  Empty List\"\"\""
   ]
  },
  {
   "cell_type": "code",
   "execution_count": 2,
   "id": "204b99f6",
   "metadata": {},
   "outputs": [
    {
     "name": "stdout",
     "output_type": "stream",
     "text": [
      "[2, 4, 6, 'Hello', 10]\n"
     ]
    }
   ],
   "source": [
    "#2. In a list of values stored in a variable called spam, how would you assign the value &#39;hello&#39; as the\n",
    "# third value? (Assume [2, 4, 6, 8, 10] are in spam.)\n",
    "\n",
    "\"\"\"Ans\n",
    "\n",
    "Spam  =  [2,4,6,8,10]\n",
    "Spam[3] = \"Hello\"\n",
    "print(Spam)\n",
    "\"\"\"\n"
   ]
  },
  {
   "cell_type": "code",
   "execution_count": 83,
   "id": "29bfa12a",
   "metadata": {},
   "outputs": [
    {
     "data": {
      "text/plain": [
       "'Ans\\n\\nspam = [\"a\",\"b\",\"c\",\"d\"]\\nspam[int(int(\"3\" * 2) / 11)]\\n\\n#o/p = \"d\"\\n\\n'"
      ]
     },
     "execution_count": 83,
     "metadata": {},
     "output_type": "execute_result"
    }
   ],
   "source": [
    "#3. What is the value of spam[int(int(\"3\" * 2) / 11)]?\n",
    "\n",
    "\"\"\"Ans\n",
    "\n",
    "spam = [\"a\",\"b\",\"c\",\"d\"]\n",
    "spam[int(int(\"3\" * 2) / 11)]\n",
    "\n",
    "#o/p = \"d\"\n",
    "\n",
    "\"\"\""
   ]
  },
  {
   "cell_type": "code",
   "execution_count": null,
   "id": "b4633abf",
   "metadata": {},
   "outputs": [],
   "source": [
    "#4. What is the value of spam[-1]?\n",
    "\n",
    "\"\"\"Ans - 'd'\n",
    "\"\"\""
   ]
  },
  {
   "cell_type": "code",
   "execution_count": null,
   "id": "21851a17",
   "metadata": {},
   "outputs": [],
   "source": [
    "#5.What is the value of spam[:2]?\n",
    "\n",
    "\"\"\"Ans - ['a','b']\n",
    "\n",
    "\"\"\""
   ]
  },
  {
   "cell_type": "code",
   "execution_count": 43,
   "id": "1d00a504",
   "metadata": {},
   "outputs": [],
   "source": [
    "# 6. What is the value of bacon.index('cat')?\n",
    "\n",
    "bacon = [3.14, 'cat', 11,'cat', True]\n",
    "\n",
    "\"\"\"Ans - 1"
   ]
  },
  {
   "cell_type": "code",
   "execution_count": null,
   "id": "f2be2e0b",
   "metadata": {},
   "outputs": [],
   "source": [
    "# 7. How does bacon.append(99) change the look of the list value in bacon?\n",
    "\n",
    "\"\"\"Ans - bacon = [3.14, 'cat', 11, 'cat', True , 99]\n",
    "\"\"\""
   ]
  },
  {
   "cell_type": "code",
   "execution_count": null,
   "id": "11b3df65",
   "metadata": {},
   "outputs": [],
   "source": [
    "# 8. How does bacon.remove('cat') change the look of the list in bacon?\n",
    "\n",
    "\"\"\"Ans - bacon = [3.14, 11, 'cat', True , 99]\"\"\""
   ]
  },
  {
   "cell_type": "code",
   "execution_count": null,
   "id": "43c0ce8c",
   "metadata": {},
   "outputs": [],
   "source": [
    "# 9. What are the list concatenation and list replication operators?\n",
    "\n",
    "\"\"\"Ans - operator for cancatenations is + and for replication is *. \"\"\""
   ]
  },
  {
   "cell_type": "code",
   "execution_count": null,
   "id": "82260d70",
   "metadata": {},
   "outputs": [],
   "source": [
    "# 10. What is difference between the list methods append() and insert()?\n",
    "\n",
    "\"\"\"Ans - append() - it will add  the item to the end of the list ,  insert() - it will add the item at any index in the list.\"\"\""
   ]
  },
  {
   "cell_type": "code",
   "execution_count": null,
   "id": "1aa86624",
   "metadata": {},
   "outputs": [],
   "source": [
    "#11. What are the two methods for removing items from a list?\n",
    "\n",
    "\"\"\"Ans 1. del  - it will delete the value on specific index in the list and 2. remove -  it will remove the specific value in the list\"\"\""
   ]
  },
  {
   "cell_type": "code",
   "execution_count": null,
   "id": "cb3485d8",
   "metadata": {},
   "outputs": [],
   "source": [
    "#12. Describe how list values and string values are identical.\n",
    "\n",
    "\"\"\"Ans - the similarity between Strings and Lists is that both strings and lists have a sequences. Every character in a string as well as every item in a list has a position which is known as an index.\"\"\""
   ]
  },
  {
   "cell_type": "code",
   "execution_count": null,
   "id": "43ad2dd3",
   "metadata": {},
   "outputs": [],
   "source": [
    "#13. What is the difference between tuples and lists?\n",
    "\n",
    "\"\"\"Ans- 1. tuple is typed with  parenthesis ('hjh',4,5) and list is typed with parenthesis ['dfgds',55,56]\n",
    "        2. tuple - it is immutable, the value in tuple cannot be removed,modified or appended , list is mutable.\n",
    "         \"\"\""
   ]
  },
  {
   "cell_type": "code",
   "execution_count": null,
   "id": "37f696d9",
   "metadata": {},
   "outputs": [],
   "source": [
    "#14. How do you type a tuple value that only contains the integer 42?\n",
    "\n",
    "\"\"\"Ans - if 42 is the only value in the tuple then we can insert comma ',' after 42, so that it will be considered as tuple\n",
    "         like  t = (42,) \"\"\""
   ]
  },
  {
   "cell_type": "code",
   "execution_count": 82,
   "id": "41c43339",
   "metadata": {},
   "outputs": [
    {
     "name": "stdout",
     "output_type": "stream",
     "text": [
      "converted list into tuple:  ('dsgds', 2435, 'fjbdfh', 8587) converted tuple into list:  ['dsgds', 2435, 'fjbdfh', 8587]\n"
     ]
    }
   ],
   "source": [
    "# 15. How do you get a list value's tuple form? How do you get a tuple value's list form?\n",
    "\n",
    "#Ans - \n",
    "\n",
    "#converting list value into tuple form \n",
    "\n",
    "l = tuple([\"dsgds\",2435,\"fjbdfh\",8587])\n",
    "l\n",
    "    \n",
    "         \n",
    "         \n",
    "#converting tuple value into list\n",
    "t = list((\"dsgds\",2435,\"fjbdfh\",8587))\n",
    "t\n",
    "            \n",
    "        \n",
    "print(\"converted list into tuple: \", l,\n",
    "      \n",
    "      \n",
    "      \"converted tuple into list: \", t)          "
   ]
  },
  {
   "cell_type": "code",
   "execution_count": null,
   "id": "81f04fbd",
   "metadata": {},
   "outputs": [],
   "source": [
    "#16. Variables that &quot;contain&quot; list values are not necessarily lists themselves. Instead, what do they\n",
    "#    contain?\n",
    "\n",
    "\"\"\"Ans - string and integers\"\"\""
   ]
  },
  {
   "cell_type": "code",
   "execution_count": null,
   "id": "a3f5f983",
   "metadata": {},
   "outputs": [],
   "source": [
    "#17. How do you distinguish between copy.copy() and copy.deepcopy()?\n",
    "\"\"\"Ans - copy.copy() is used to make duplicate copy of the list and \n",
    "         copy.deepcopy() is used if the list need to copy contains list \"\"\"\n",
    "\n",
    "\n"
   ]
  }
 ],
 "metadata": {
  "kernelspec": {
   "display_name": "Python 3 (ipykernel)",
   "language": "python",
   "name": "python3"
  },
  "language_info": {
   "codemirror_mode": {
    "name": "ipython",
    "version": 3
   },
   "file_extension": ".py",
   "mimetype": "text/x-python",
   "name": "python",
   "nbconvert_exporter": "python",
   "pygments_lexer": "ipython3",
   "version": "3.9.7"
  }
 },
 "nbformat": 4,
 "nbformat_minor": 5
}
