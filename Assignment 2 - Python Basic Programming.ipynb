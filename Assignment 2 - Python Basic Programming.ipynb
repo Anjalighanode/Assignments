{
 "cells": [
  {
   "cell_type": "code",
   "execution_count": 6,
   "id": "d14c40bc",
   "metadata": {},
   "outputs": [
    {
     "name": "stdout",
     "output_type": "stream",
     "text": [
      "enter a number1\n",
      "0.621371192237334\n"
     ]
    }
   ],
   "source": [
    "#Q1. Write a Python program to convert kilometers to miles?\n",
    "# Ans \n",
    "\n",
    "Kilometer= int(input(\"enter a number\"))\n",
    "#to convert Kilometer to miles, divide the km by 1.609344\n",
    "Mile= Kilometer/1.609344\n",
    "\n",
    "print(Mile)"
   ]
  },
  {
   "cell_type": "code",
   "execution_count": 10,
   "id": "562e57ab",
   "metadata": {},
   "outputs": [
    {
     "name": "stdout",
     "output_type": "stream",
     "text": [
      "enter a number2\n",
      "35.6\n"
     ]
    }
   ],
   "source": [
    "#Q2. Write a Python program to convert Celsius to Fahrenheit?\n",
    "\n",
    "# Ans\n",
    "\n",
    "celsius= int(input(\"enter a number\"))\n",
    "\n",
    "# use formula to convert celsius to Farenheit\n",
    "\n",
    "Farenheit= celsius *(9/5)+32\n",
    "\n",
    "print(Farenheit)"
   ]
  },
  {
   "cell_type": "code",
   "execution_count": 20,
   "id": "2bda1e85",
   "metadata": {
    "scrolled": true
   },
   "outputs": [
    {
     "name": "stdout",
     "output_type": "stream",
     "text": [
      "enter a month8\n",
      "enter year2022\n",
      "    August 2022\n",
      "Mo Tu We Th Fr Sa Su\n",
      " 1  2  3  4  5  6  7\n",
      " 8  9 10 11 12 13 14\n",
      "15 16 17 18 19 20 21\n",
      "22 23 24 25 26 27 28\n",
      "29 30 31\n",
      "\n"
     ]
    }
   ],
   "source": [
    "#Q3 Write a Python program to display calendar?\n",
    "\n",
    "import calendar\n",
    "a= int(input(\"enter a month\"))\n",
    "b= int(input (\"enter year\"))\n",
    "\n",
    "print(calendar.month(b,a))"
   ]
  },
  {
   "cell_type": "code",
   "execution_count": 79,
   "id": "e8b238ba",
   "metadata": {},
   "outputs": [
    {
     "name": "stdout",
     "output_type": "stream",
     "text": [
      "enter a value1\n",
      "enter a value2\n",
      "enter a value1\n",
      "the solution are (-1+0j) and (-1+0j)\n"
     ]
    }
   ],
   "source": [
    "#Q4. Write a Python program to solve quadratic equation?\n",
    "\n",
    "#Ans \n",
    "\n",
    "import cmath\n",
    "a= int(input(\"enter a value\"))\n",
    "b= int(input(\"enter a value\"))\n",
    "c= int(input(\"enter a value\"))\n",
    "\n",
    "d= (b**2) - (4*a*c)\n",
    "sol1 = (-b -cmath.sqrt(d))/(2*a)\n",
    "sol2 = (-b + cmath.sqrt(d))/(2*a)\n",
    "\n",
    "print('the solution are {0} and {1}'.format(sol1,sol2) )\n",
    "\n",
    "    "
   ]
  },
  {
   "cell_type": "code",
   "execution_count": 98,
   "id": "c7156f32",
   "metadata": {},
   "outputs": [
    {
     "name": "stdout",
     "output_type": "stream",
     "text": [
      "enter a number5\n",
      "enter a number2\n",
      "old value of a is 5 and b is 2\n",
      "new value of a is 2 and b is 5\n"
     ]
    }
   ],
   "source": [
    "#Q5. Write a Python program to swap two variables without temp variable?\n",
    "\n",
    "a= int(input(\"enter a number\"))\n",
    "b= int(input(\"enter a number\"))\n",
    "\n",
    "print(\"old value of a is {0} and b is {1}\".format(a,b))\n",
    "\n",
    "a = a + b\n",
    "b = a  - b\n",
    "a = a - b\n",
    "\n",
    "print(\"new value of a is {0} and b is {1}\".format(a,b))\n"
   ]
  }
 ],
 "metadata": {
  "kernelspec": {
   "display_name": "Python 3 (ipykernel)",
   "language": "python",
   "name": "python3"
  },
  "language_info": {
   "codemirror_mode": {
    "name": "ipython",
    "version": 3
   },
   "file_extension": ".py",
   "mimetype": "text/x-python",
   "name": "python",
   "nbconvert_exporter": "python",
   "pygments_lexer": "ipython3",
   "version": "3.9.7"
  }
 },
 "nbformat": 4,
 "nbformat_minor": 5
}
