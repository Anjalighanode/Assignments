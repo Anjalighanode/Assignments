{
 "cells": [
  {
   "cell_type": "code",
   "execution_count": null,
   "id": "57d0d45c",
   "metadata": {},
   "outputs": [],
   "source": [
    "#1. Why are functions advantageous to have in your programs?\n",
    "\"\"\"Ans - 1.Function is peice of code which we can use multiple times.\n",
    "         2.It helps to break down large program into small sections/components.\n",
    "         3.it can be use by another programmer.\"\"\"\n"
   ]
  },
  {
   "cell_type": "code",
   "execution_count": null,
   "id": "3cadcd63",
   "metadata": {},
   "outputs": [],
   "source": [
    "#2. When does the code in a function run: when it&#39;s specified or when it&#39;s called?\n",
    "\n",
    "\"\"\"Ans- the function will provide a result when its called \"\"\""
   ]
  },
  {
   "cell_type": "code",
   "execution_count": 36,
   "id": "aa1ed904",
   "metadata": {},
   "outputs": [],
   "source": [
    "#3. What statement creates a function?\n",
    "\"\"\"Ans - to create a function def keyword is used\"\"\""
   ]
  },
  {
   "cell_type": "code",
   "execution_count": null,
   "id": "a891f3b7",
   "metadata": {},
   "outputs": [],
   "source": [
    "#4. What is the difference between a function and a function call?\n",
    "\n",
    "\"\"\"Ans - Function is procedure or block of code which we create to get perticuler result\n",
    "         Function call we use to excute the result of that function\n",
    "         \n",
    "         function will not be useful until we call it to show results\n",
    "\n",
    "\"\"\""
   ]
  },
  {
   "cell_type": "code",
   "execution_count": null,
   "id": "f998e187",
   "metadata": {},
   "outputs": [],
   "source": [
    "#5. How many global scopes are there in a Python program? How many local scopes?\n",
    "\n",
    "\"\"\"Ans - there is only one global scope , local scope can be multiple times\"\"\""
   ]
  },
  {
   "cell_type": "code",
   "execution_count": null,
   "id": "374e9384",
   "metadata": {},
   "outputs": [],
   "source": [
    "#6. What happens to variables in a local scope when the function call returns?\n",
    "\"\"\"ans - the function will return the value of variable in local scope\"\"\"\n"
   ]
  },
  {
   "cell_type": "code",
   "execution_count": null,
   "id": "fca47177",
   "metadata": {},
   "outputs": [],
   "source": [
    "#7. What is the concept of a return value? Is it possible to have a return value in an expression?\n",
    "\"\"\"Ans - return is use to return the value to the function,so that when we call the function , it will show the result of that perticuler function \n",
    "         Yes, it is possible to have a return value in an expression in Python.\n",
    "          \"\"\""
   ]
  },
  {
   "cell_type": "code",
   "execution_count": null,
   "id": "7691ffa5",
   "metadata": {},
   "outputs": [],
   "source": [
    "#8. If a function does not have a return statement, what is the return value of a call to that function?\n",
    "\n",
    "\"\"\"Ans - it return None\"\"\""
   ]
  },
  {
   "cell_type": "code",
   "execution_count": null,
   "id": "59a9d6a9",
   "metadata": {},
   "outputs": [],
   "source": [
    "#9. How do you make a function variable refer to the global variable?\n",
    "\n",
    "\"\"\"Ans - by declaring it as global \"\"\""
   ]
  },
  {
   "cell_type": "code",
   "execution_count": 37,
   "id": "d4619159",
   "metadata": {},
   "outputs": [],
   "source": [
    "#10.What is the data type of None?\n",
    "\n",
    "\"\"\"Ans -  Nonetype\n",
    "\n",
    "\"\"\""
   ]
  },
  {
   "cell_type": "code",
   "execution_count": null,
   "id": "a5ecd0c7",
   "metadata": {},
   "outputs": [],
   "source": [
    "#11. What does the sentence import areallyourpetsnamederic do?\n",
    "\n",
    "\"\"\"Ans - it will import the module named areallyourpetsnamederic\"\"\"\n"
   ]
  },
  {
   "cell_type": "code",
   "execution_count": null,
   "id": "1ad14d2c",
   "metadata": {},
   "outputs": [],
   "source": [
    "#12. If you had a bacon() feature in a spam module, what would you call it after importing spam?\n",
    "\n",
    "\"\"\"Ans - spam.bacon()\"\"\""
   ]
  },
  {
   "cell_type": "code",
   "execution_count": null,
   "id": "372eaf3e",
   "metadata": {},
   "outputs": [],
   "source": [
    "#13. What can you do to save a programme from crashing if it encounters an error?\n",
    "\n",
    "\"\"\"Ans - we will use Exception handling to handle those errors\"\"\""
   ]
  },
  {
   "cell_type": "code",
   "execution_count": null,
   "id": "ea9ee503",
   "metadata": {},
   "outputs": [],
   "source": [
    "#14. What is the purpose of the try clause? What is the purpose of the except clause?\n",
    "\n",
    "\"\"\"Ans - try: this is use to test all expected errors. If an exception is raised, it jumps straight into the except block.\n",
    "\n",
    "except - this is only executed if an exception occured in the try block. The except block is required with a try block, even if it contains only the pass statement.\"\"\""
   ]
  }
 ],
 "metadata": {
  "kernelspec": {
   "display_name": "Python 3 (ipykernel)",
   "language": "python",
   "name": "python3"
  },
  "language_info": {
   "codemirror_mode": {
    "name": "ipython",
    "version": 3
   },
   "file_extension": ".py",
   "mimetype": "text/x-python",
   "name": "python",
   "nbconvert_exporter": "python",
   "pygments_lexer": "ipython3",
   "version": "3.9.7"
  }
 },
 "nbformat": 4,
 "nbformat_minor": 5
}
