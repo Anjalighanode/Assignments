{
 "cells": [
  {
   "cell_type": "code",
   "execution_count": null,
   "id": "5421da65",
   "metadata": {},
   "outputs": [],
   "source": [
    "#1. What are escape characters, and how do you use them?\n",
    "\"\"\"Ans - Escape character is use to put impossible characters in strings\n",
    "         we can use \\ as a escape character before the character we want to put in  string\n",
    "         \n",
    "         like if we use single or double quote inside string, it will considr the end of string but if we use \\ before quote, python will understand the string is not ended and it is the part of string. \"\"\""
   ]
  },
  {
   "cell_type": "code",
   "execution_count": null,
   "id": "2bdc0a2d",
   "metadata": {},
   "outputs": [],
   "source": [
    "#2. What do the escape characters n and t stand for?\n",
    "\n",
    "\"\"\"Ans- \\n is use for new line\n",
    "        \\t is use for tab\n",
    "        \n",
    "        \"\"\""
   ]
  },
  {
   "cell_type": "code",
   "execution_count": null,
   "id": "3afdb3d6",
   "metadata": {},
   "outputs": [],
   "source": [
    "#3. What is the way to include backslash characters in a string?\n",
    "\n",
    "\"\"\"Ans-  we can use raw string to use backslash in string, use r before the beginning quatation mark of the string\"\"\""
   ]
  },
  {
   "cell_type": "code",
   "execution_count": null,
   "id": "5d473ac0",
   "metadata": {},
   "outputs": [],
   "source": [
    "#4. The string \"Howl's Moving Castle\" is a correct value. Why isn't the single quote character in the\n",
    "#   word Howl's not escaped a problem?\n",
    "\n",
    "\"\"\"Ans - since the string begins with double quote, the python understands that single quote is a part of the string not the end of string\"\"\"\n"
   ]
  },
  {
   "cell_type": "code",
   "execution_count": null,
   "id": "0d40a999",
   "metadata": {},
   "outputs": [],
   "source": [
    "#5. How do you write a string of newlines if you don't want to use the n character?\n",
    "\n",
    "\"\"\"Ans - we can use multiline string it will start and end with triple single quote or triple double quote\n",
    "\n",
    "\n"
   ]
  },
  {
   "cell_type": "code",
   "execution_count": 31,
   "id": "9873761c",
   "metadata": {},
   "outputs": [
    {
     "data": {
      "text/plain": [
       "\"Ans - 1. 'e'\\n         2. 'Hello'\\n         3. 'Hello'\\n         4. 'lo, world'\\n         \\n         \""
      ]
     },
     "execution_count": 31,
     "metadata": {},
     "output_type": "execute_result"
    }
   ],
   "source": [
    "#6. What are the values of the given expressions?\n",
    "\n",
    "'Hello, world!'[1]\n",
    "'Hello, world!'[0:5]\n",
    "'Hello, world!'[:5]\n",
    "'Hello, world!'[3:]\n",
    "\n",
    "\"\"\"Ans - 1. 'e'\n",
    "         2. 'Hello'\n",
    "         3. 'Hello'\n",
    "         4. 'lo, world'\n",
    "         \n",
    "         \"\"\""
   ]
  },
  {
   "cell_type": "code",
   "execution_count": null,
   "id": "6bcb436b",
   "metadata": {},
   "outputs": [],
   "source": [
    "#7. What are the values of the following expressions?\n",
    "\n",
    "'Hello'.upper()\n",
    "'Hello'.upper().isupper()\n",
    "'Hello'.upper().lower()\n",
    "\n",
    "\n",
    "\"\"\"Ans - 1. 'HELLO'\n",
    "         2. True\n",
    "         3. 'hello'\n",
    "         \n",
    "         \"\"\""
   ]
  },
  {
   "cell_type": "code",
   "execution_count": null,
   "id": "0ed13a9f",
   "metadata": {},
   "outputs": [],
   "source": [
    "#8. What are the values of the following expressions?\n",
    "\n",
    "\n",
    "'Remember, remember, the fifth of July.'.split()\n",
    "'-'.join('There can only one.'.split())\n",
    "\n",
    "\"\"\"Ans - 1. ['Remember,', 'remember,', 'the', 'fifth', 'of', 'July.']\n",
    "         2. 'There-can-only-one.' \n",
    "         \n",
    "         \"\"\""
   ]
  },
  {
   "cell_type": "code",
   "execution_count": null,
   "id": "620ce856",
   "metadata": {},
   "outputs": [],
   "source": [
    "#9. What are the methods for right-justifying, left-justifying, and centering a string?\n",
    "\n",
    "\"\"\"Ans - right justifying - rjust()\n",
    "         left justifying - ljust()\n",
    "         centering - center\n",
    "         \n",
    "         \"\"\""
   ]
  },
  {
   "cell_type": "code",
   "execution_count": null,
   "id": "dff68561",
   "metadata": {},
   "outputs": [],
   "source": [
    "#10. What is the best way to remove whitespace characters from the start or end?\n",
    "\n",
    "\"\"\"Ans - we can use strip() ,  lstrip() & rstrip()\n",
    "\n",
    "\n",
    "\"\"\""
   ]
  }
 ],
 "metadata": {
  "kernelspec": {
   "display_name": "Python 3 (ipykernel)",
   "language": "python",
   "name": "python3"
  },
  "language_info": {
   "codemirror_mode": {
    "name": "ipython",
    "version": 3
   },
   "file_extension": ".py",
   "mimetype": "text/x-python",
   "name": "python",
   "nbconvert_exporter": "python",
   "pygments_lexer": "ipython3",
   "version": "3.9.7"
  }
 },
 "nbformat": 4,
 "nbformat_minor": 5
}
